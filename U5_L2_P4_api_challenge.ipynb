{
 "cells": [
  {
   "cell_type": "markdown",
   "metadata": {},
   "source": [
    "# API Practice"
   ]
  },
  {
   "cell_type": "code",
   "execution_count": 2,
   "metadata": {},
   "outputs": [],
   "source": [
    "import requests\n",
    "import csv\n",
    "import pandas as pd\n",
    "import numpy as np\n",
    "import matplotlib.pyplot as plt\n",
    "import seaborn as sns\n",
    "% matplotlib inline"
   ]
  },
  {
   "cell_type": "markdown",
   "metadata": {},
   "source": [
    "### NASA Exoplanet API\n",
    "This API returns a csv, which can be directly read into pandas."
   ]
  },
  {
   "cell_type": "code",
   "execution_count": 74,
   "metadata": {},
   "outputs": [],
   "source": [
    "url = 'https://exoplanetarchive.ipac.caltech.edu/cgi-bin/nstedAPI/nph-nstedAPI?' + \\\n",
    "      'table=exoplanets&select=pl_hostname,pl_name,pl_discmethod,pl_pnum,pl_radj,' + \\\n",
    "      'pl_dens,pl_locale,pl_telescope,pl_orbper&order=dec'\n"
   ]
  },
  {
   "cell_type": "code",
   "execution_count": 75,
   "metadata": {},
   "outputs": [],
   "source": [
    "df = pd.read_csv(url)"
   ]
  },
  {
   "cell_type": "code",
   "execution_count": 76,
   "metadata": {},
   "outputs": [
    {
     "data": {
      "text/html": [
       "<div>\n",
       "<style scoped>\n",
       "    .dataframe tbody tr th:only-of-type {\n",
       "        vertical-align: middle;\n",
       "    }\n",
       "\n",
       "    .dataframe tbody tr th {\n",
       "        vertical-align: top;\n",
       "    }\n",
       "\n",
       "    .dataframe thead th {\n",
       "        text-align: right;\n",
       "    }\n",
       "</style>\n",
       "<table border=\"1\" class=\"dataframe\">\n",
       "  <thead>\n",
       "    <tr style=\"text-align: right;\">\n",
       "      <th></th>\n",
       "      <th>pl_hostname</th>\n",
       "      <th>pl_name</th>\n",
       "      <th>pl_discmethod</th>\n",
       "      <th>pl_pnum</th>\n",
       "      <th>pl_radj</th>\n",
       "      <th>pl_dens</th>\n",
       "      <th>pl_locale</th>\n",
       "      <th>pl_telescope</th>\n",
       "      <th>pl_orbper</th>\n",
       "    </tr>\n",
       "  </thead>\n",
       "  <tbody>\n",
       "    <tr>\n",
       "      <th>0</th>\n",
       "      <td>HD 142022 A</td>\n",
       "      <td>HD 142022 A b</td>\n",
       "      <td>Radial Velocity</td>\n",
       "      <td>1</td>\n",
       "      <td>NaN</td>\n",
       "      <td>NaN</td>\n",
       "      <td>Ground</td>\n",
       "      <td>1.2 m Leonhard Euler Telescope</td>\n",
       "      <td>1928.0000</td>\n",
       "    </tr>\n",
       "    <tr>\n",
       "      <th>1</th>\n",
       "      <td>HD 39091</td>\n",
       "      <td>pi Men c</td>\n",
       "      <td>Transit</td>\n",
       "      <td>2</td>\n",
       "      <td>0.182</td>\n",
       "      <td>2.97</td>\n",
       "      <td>Space</td>\n",
       "      <td>0.1 m TESS Telescope</td>\n",
       "      <td>6.2679</td>\n",
       "    </tr>\n",
       "    <tr>\n",
       "      <th>2</th>\n",
       "      <td>HD 39091</td>\n",
       "      <td>HD 39091 b</td>\n",
       "      <td>Radial Velocity</td>\n",
       "      <td>2</td>\n",
       "      <td>NaN</td>\n",
       "      <td>NaN</td>\n",
       "      <td>Ground</td>\n",
       "      <td>3.9 m Anglo-Australian Telescope</td>\n",
       "      <td>2093.0700</td>\n",
       "    </tr>\n",
       "    <tr>\n",
       "      <th>3</th>\n",
       "      <td>HD 137388</td>\n",
       "      <td>HD 137388 b</td>\n",
       "      <td>Radial Velocity</td>\n",
       "      <td>1</td>\n",
       "      <td>NaN</td>\n",
       "      <td>NaN</td>\n",
       "      <td>Ground</td>\n",
       "      <td>3.6 m ESO Telescope</td>\n",
       "      <td>330.0000</td>\n",
       "    </tr>\n",
       "    <tr>\n",
       "      <th>4</th>\n",
       "      <td>GJ 3021</td>\n",
       "      <td>GJ 3021 b</td>\n",
       "      <td>Radial Velocity</td>\n",
       "      <td>1</td>\n",
       "      <td>NaN</td>\n",
       "      <td>NaN</td>\n",
       "      <td>Ground</td>\n",
       "      <td>1.2 m Leonhard Euler Telescope</td>\n",
       "      <td>133.7100</td>\n",
       "    </tr>\n",
       "  </tbody>\n",
       "</table>\n",
       "</div>"
      ],
      "text/plain": [
       "   pl_hostname        pl_name    pl_discmethod  pl_pnum  pl_radj  pl_dens  \\\n",
       "0  HD 142022 A  HD 142022 A b  Radial Velocity        1      NaN      NaN   \n",
       "1     HD 39091       pi Men c          Transit        2    0.182     2.97   \n",
       "2     HD 39091     HD 39091 b  Radial Velocity        2      NaN      NaN   \n",
       "3    HD 137388    HD 137388 b  Radial Velocity        1      NaN      NaN   \n",
       "4      GJ 3021      GJ 3021 b  Radial Velocity        1      NaN      NaN   \n",
       "\n",
       "  pl_locale                      pl_telescope  pl_orbper  \n",
       "0    Ground    1.2 m Leonhard Euler Telescope  1928.0000  \n",
       "1     Space              0.1 m TESS Telescope     6.2679  \n",
       "2    Ground  3.9 m Anglo-Australian Telescope  2093.0700  \n",
       "3    Ground               3.6 m ESO Telescope   330.0000  \n",
       "4    Ground    1.2 m Leonhard Euler Telescope   133.7100  "
      ]
     },
     "execution_count": 76,
     "metadata": {},
     "output_type": "execute_result"
    }
   ],
   "source": [
    "df.head()"
   ]
  },
  {
   "cell_type": "code",
   "execution_count": 77,
   "metadata": {},
   "outputs": [
    {
     "data": {
      "text/plain": [
       "68"
      ]
     },
     "execution_count": 77,
     "metadata": {},
     "output_type": "execute_result"
    }
   ],
   "source": [
    "df.pl_telescope.nunique()"
   ]
  },
  {
   "cell_type": "code",
   "execution_count": 78,
   "metadata": {},
   "outputs": [
    {
     "name": "stdout",
     "output_type": "stream",
     "text": [
      "<class 'pandas.core.frame.DataFrame'>\n",
      "RangeIndex: 3933 entries, 0 to 3932\n",
      "Data columns (total 9 columns):\n",
      "pl_hostname      3933 non-null object\n",
      "pl_name          3933 non-null object\n",
      "pl_discmethod    3933 non-null object\n",
      "pl_pnum          3933 non-null int64\n",
      "pl_radj          3073 non-null float64\n",
      "pl_dens          426 non-null float64\n",
      "pl_locale        3933 non-null object\n",
      "pl_telescope     3933 non-null object\n",
      "pl_orbper        3829 non-null float64\n",
      "dtypes: float64(3), int64(1), object(5)\n",
      "memory usage: 276.6+ KB\n"
     ]
    }
   ],
   "source": [
    "df.info()"
   ]
  },
  {
   "cell_type": "code",
   "execution_count": 79,
   "metadata": {},
   "outputs": [
    {
     "data": {
      "text/plain": [
       "array(['Radial Velocity', 'Transit', 'Imaging', 'Astrometry',\n",
       "       'Eclipse Timing Variations', 'Microlensing', 'Pulsar Timing',\n",
       "       'Pulsation Timing Variations', 'Transit Timing Variations',\n",
       "       'Orbital Brightness Modulation'], dtype=object)"
      ]
     },
     "execution_count": 79,
     "metadata": {},
     "output_type": "execute_result"
    }
   ],
   "source": [
    "df.pl_discmethod.unique()"
   ]
  },
  {
   "cell_type": "code",
   "execution_count": 80,
   "metadata": {},
   "outputs": [
    {
     "data": {
      "image/png": "[encoded data removed]",
      "text/plain": [
       "<Figure size 432x288 with 1 Axes>"
      ]
     },
     "metadata": {
      "needs_background": "light"
     },
     "output_type": "display_data"
    }
   ],
   "source": [
    "sns.countplot(y='pl_discmethod', \n",
    "              palette=\"Set1\", \n",
    "              edgecolor=\".6\",\n",
    "              data=df)\n",
    "plt.title('Discovery Method')\n",
    "plt.show()"
   ]
  },
  {
   "cell_type": "code",
   "execution_count": 81,
   "metadata": {},
   "outputs": [
    {
     "data": {
      "text/plain": [
       "pl_telescope\n",
       "0.95 m Kepler Telescope                2702\n",
       "Canon 200mm f/1.8L                      200\n",
       "3.6 m ESO Telescope                     171\n",
       "10 m Keck I Telescope                   162\n",
       "Multiple Telescopes                     135\n",
       "0.18 m Takahashi Epsilon Astrograph      54\n",
       "1.3 m Warsaw University Telescope        50\n",
       "1.93 m Telescope                         45\n",
       "1.2 m Leonhard Euler Telescope           44\n",
       "3.9 m Anglo-Australian Telescope         35\n",
       "0.27 m CoRoT Telescope                   31\n",
       "3.0 m C. Donald Shane Telescope          26\n",
       "9.2 m Hobby-Eberly Telescope             25\n",
       "1.88 m Telescope                         23\n",
       "1.8 m MOA Telescope                      23\n",
       "3.58 m Telescopio Nazionale Galileo      17\n",
       "Mamiya 645 80mm f/1.9                    17\n",
       "1.8 m Telescope                          16\n",
       "6.5 m Magellan II Clay Telescope         11\n",
       "10 m Keck II Telescope                    9\n",
       "Name: pl_hostname, dtype: int64"
      ]
     },
     "execution_count": 81,
     "metadata": {},
     "output_type": "execute_result"
    }
   ],
   "source": [
    "teles = df.groupby('pl_telescope').count()['pl_hostname'].sort_values(ascending=False)\n",
    "teles[0:20]"
   ]
  },
  {
   "cell_type": "code",
   "execution_count": 82,
   "metadata": {},
   "outputs": [
    {
     "data": {
      "text/plain": [
       "'0.95 m Kepler Telescope'"
      ]
     },
     "execution_count": 82,
     "metadata": {},
     "output_type": "execute_result"
    }
   ],
   "source": [
    "teles.index[0]"
   ]
  },
  {
   "cell_type": "code",
   "execution_count": 83,
   "metadata": {},
   "outputs": [
    {
     "data": {
      "image/png": "[encoded data removed]",
      "text/plain": [
       "<Figure size 432x288 with 1 Axes>"
      ]
     },
     "metadata": {
      "needs_background": "light"
     },
     "output_type": "display_data"
    }
   ],
   "source": [
    "plt.title('Telescope Used for Planetary Discovery')\n",
    "plt.barh(y=teles.index[0:10], width=teles[0:10])\n",
    "plt.show()"
   ]
  },
  {
   "cell_type": "code",
   "execution_count": 84,
   "metadata": {},
   "outputs": [
    {
     "data": {
      "text/plain": [
       "array([1, 2, 3, 6, 5, 4, 7, 8])"
      ]
     },
     "execution_count": 84,
     "metadata": {},
     "output_type": "execute_result"
    }
   ],
   "source": [
    "df['pl_pnum'].unique()"
   ]
  },
  {
   "cell_type": "code",
   "execution_count": 85,
   "metadata": {},
   "outputs": [
    {
     "data": {
      "image/png": "[encoded data removed]",
      "text/plain": [
       "<Figure size 432x288 with 1 Axes>"
      ]
     },
     "metadata": {
      "needs_background": "light"
     },
     "output_type": "display_data"
    }
   ],
   "source": [
    "sns.countplot(y='pl_pnum', \n",
    "              palette=\"Set1\", \n",
    "              edgecolor=\".6\",\n",
    "              data=df)\n",
    "plt.title('Number of Planets in the System')\n",
    "plt.show()"
   ]
  },
  {
   "cell_type": "code",
   "execution_count": 96,
   "metadata": {},
   "outputs": [
    {
     "data": {
      "image/png": "[encoded data removed]",
      "text/plain": [
       "<Figure size 360x360 with 1 Axes>"
      ]
     },
     "metadata": {
      "needs_background": "light"
     },
     "output_type": "display_data"
    }
   ],
   "source": [
    "# Exclude a few outliers\n",
    "\n",
    "g = sns.catplot(x='pl_pnum', y='pl_orbper', kind='box', data=df)\n",
    "g.fig.get_axes()[0].set_yscale('log')\n",
    "plt.show()"
   ]
  },
  {
   "cell_type": "markdown",
   "metadata": {},
   "source": [
    "## Possible Analyses:\n",
    "1) Could look at predicting which type of instrument discovered each planet.  \n",
    "2) Look at predicting orbital period based on parameters"
   ]
  },
  {
   "cell_type": "code",
   "execution_count": null,
   "metadata": {},
   "outputs": [],
   "source": []
  }
 ],
 "metadata": {
  "kernelspec": {
   "display_name": "Python 3",
   "language": "python",
   "name": "python3"
  },
  "language_info": {
   "codemirror_mode": {
    "name": "ipython",
    "version": 3
   },
   "file_extension": ".py",
   "mimetype": "text/x-python",
   "name": "python",
   "nbconvert_exporter": "python",
   "pygments_lexer": "ipython3",
   "version": "3.7.0"
  }
 },
 "nbformat": 4,
 "nbformat_minor": 2
}

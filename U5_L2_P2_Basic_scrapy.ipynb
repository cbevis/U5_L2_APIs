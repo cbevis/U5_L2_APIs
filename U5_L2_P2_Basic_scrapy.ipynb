{
 "cells": [
  {
   "cell_type": "code",
   "execution_count": 1,
   "metadata": {},
   "outputs": [
    {
     "name": "stderr",
     "output_type": "stream",
     "text": [
      "2019-03-05 20:10:38 [scrapy.utils.log] INFO: Scrapy 1.6.0 started (bot: scrapybot)\n",
      "2019-03-05 20:10:38 [scrapy.utils.log] INFO: Versions: lxml 4.3.2.0, libxml2 2.9.9, cssselect 1.0.3, parsel 1.5.1, w3lib 1.20.0, Twisted 18.9.0, Python 3.7.0 (default, Aug 17 2018, 21:14:48) - [Clang 9.1.0 (clang-902.0.39.2)], pyOpenSSL 19.0.0 (OpenSSL 1.1.1b  26 Feb 2019), cryptography 2.6.1, Platform Darwin-18.2.0-x86_64-i386-64bit\n",
      "2019-03-05 20:10:38 [scrapy.crawler] INFO: Overridden settings: {}\n",
      "2019-03-05 20:10:38 [scrapy.extensions.telnet] INFO: Telnet Password: 0c8285b7bd0c0ac4\n",
      "2019-03-05 20:10:38 [scrapy.middleware] INFO: Enabled extensions:\n",
      "['scrapy.extensions.corestats.CoreStats',\n",
      " 'scrapy.extensions.telnet.TelnetConsole',\n",
      " 'scrapy.extensions.memusage.MemoryUsage',\n",
      " 'scrapy.extensions.logstats.LogStats']\n",
      "2019-03-05 20:10:38 [scrapy.middleware] INFO: Enabled downloader middlewares:\n",
      "['scrapy.downloadermiddlewares.httpauth.HttpAuthMiddleware',\n",
      " 'scrapy.downloadermiddlewares.downloadtimeout.DownloadTimeoutMiddleware',\n",
      " 'scrapy.downloadermiddlewares.defaultheaders.DefaultHeadersMiddleware',\n",
      " 'scrapy.downloadermiddlewares.useragent.UserAgentMiddleware',\n",
      " 'scrapy.downloadermiddlewares.retry.RetryMiddleware',\n",
      " 'scrapy.downloadermiddlewares.redirect.MetaRefreshMiddleware',\n",
      " 'scrapy.downloadermiddlewares.httpcompression.HttpCompressionMiddleware',\n",
      " 'scrapy.downloadermiddlewares.redirect.RedirectMiddleware',\n",
      " 'scrapy.downloadermiddlewares.cookies.CookiesMiddleware',\n",
      " 'scrapy.downloadermiddlewares.httpproxy.HttpProxyMiddleware',\n",
      " 'scrapy.downloadermiddlewares.stats.DownloaderStats']\n",
      "2019-03-05 20:10:38 [scrapy.middleware] INFO: Enabled spider middlewares:\n",
      "['scrapy.spidermiddlewares.httperror.HttpErrorMiddleware',\n",
      " 'scrapy.spidermiddlewares.offsite.OffsiteMiddleware',\n",
      " 'scrapy.spidermiddlewares.referer.RefererMiddleware',\n",
      " 'scrapy.spidermiddlewares.urllength.UrlLengthMiddleware',\n",
      " 'scrapy.spidermiddlewares.depth.DepthMiddleware']\n",
      "2019-03-05 20:10:38 [scrapy.middleware] INFO: Enabled item pipelines:\n",
      "[]\n",
      "2019-03-05 20:10:38 [scrapy.core.engine] INFO: Spider opened\n",
      "2019-03-05 20:10:38 [scrapy.extensions.logstats] INFO: Crawled 0 pages (at 0 pages/min), scraped 0 items (at 0 items/min)\n",
      "2019-03-05 20:10:38 [scrapy.extensions.telnet] INFO: Telnet console listening on 127.0.0.1:6023\n",
      "2019-03-05 20:10:38 [scrapy.downloadermiddlewares.redirect] DEBUG: Redirecting (301) to <GET http://everydaysexism.com/> from <GET http://www.everydaysexism.com>\n",
      "2019-03-05 20:10:38 [scrapy.core.engine] DEBUG: Crawled (200) <GET http://everydaysexism.com/> (referer: None)\n",
      "2019-03-05 20:10:39 [scrapy.core.engine] INFO: Closing spider (finished)\n",
      "2019-03-05 20:10:39 [scrapy.statscollectors] INFO: Dumping Scrapy stats:\n",
      "{'downloader/request_bytes': 438,\n",
      " 'downloader/request_count': 2,\n",
      " 'downloader/request_method_count/GET': 2,\n",
      " 'downloader/response_bytes': 33975,\n",
      " 'downloader/response_count': 2,\n",
      " 'downloader/response_status_count/200': 1,\n",
      " 'downloader/response_status_count/301': 1,\n",
      " 'finish_reason': 'finished',\n",
      " 'finish_time': datetime.datetime(2019, 3, 6, 4, 10, 39, 90877),\n",
      " 'log_count/DEBUG': 2,\n",
      " 'log_count/INFO': 9,\n",
      " 'memusage/max': 68210688,\n",
      " 'memusage/startup': 68210688,\n",
      " 'response_received_count': 1,\n",
      " 'scheduler/dequeued': 2,\n",
      " 'scheduler/dequeued/memory': 2,\n",
      " 'scheduler/enqueued': 2,\n",
      " 'scheduler/enqueued/memory': 2,\n",
      " 'start_time': datetime.datetime(2019, 3, 6, 4, 10, 38, 836370)}\n",
      "2019-03-05 20:10:39 [scrapy.core.engine] INFO: Spider closed (finished)\n"
     ]
    }
   ],
   "source": [
    "# import in each cell because of kernel restarts\n",
    "# better to run in comman line because of restarts\n",
    "import scrapy\n",
    "from scrapy.crawler import CrawlerProcess\n",
    "\n",
    "class ESSpider(scrapy.Spider):\n",
    "    # Naming the spider is important if running more than one\n",
    "    # of this class simultaneously\n",
    "    name = 'ESS'\n",
    "    \n",
    "    # URL(s) to start with\n",
    "    start_urls = [\n",
    "        'http://www.everydaysexism.com',\n",
    "    ]\n",
    "    \n",
    "    # What to do with the URL.  Download to mainpage.html of file\n",
    "    def parse(self, response):\n",
    "        with open('mainpage.html', 'wb') as f:\n",
    "            f.write(response.body)\n",
    "            \n",
    "# Instantiate our crawler\n",
    "process = CrawlerProcess()\n",
    "\n",
    "# Start the crawler with our spider\n",
    "process.crawl(ESSpider)\n",
    "process.start()"
   ]
  },
  {
   "cell_type": "markdown",
   "metadata": {},
   "source": [
    "# Parsing HTML\n",
    "- Using xpath"
   ]
  },
  {
   "cell_type": "code",
   "execution_count": 1,
   "metadata": {},
   "outputs": [
    {
     "name": "stdout",
     "output_type": "stream",
     "text": [
      "Success\n"
     ]
    }
   ],
   "source": [
    "# importing in each cell because of the kernel restarts\n",
    "import scrapy\n",
    "from scrapy.crawler import CrawlerProcess\n",
    "\n",
    "class ESSpider(scrapy.Spider):\n",
    "    \n",
    "    name = 'ESS'\n",
    "    \n",
    "    # URL(s) to start with\n",
    "    start_urls = [\n",
    "        'http://www.everydaysexism.com'\n",
    "    ]\n",
    "    \n",
    "    # Use XPath to parse the response we get\n",
    "    def parse(self, response):\n",
    "        \n",
    "        # Iterate over every <article> element on the page\n",
    "        for article in response.xpath('//article'):\n",
    "            \n",
    "            # Yield a dictionary with the values we want\n",
    "            yield {\n",
    "                # This is the ode to choose what we want to extract\n",
    "                # Use Xpath expressions if other info wanted\n",
    "                'name': article.xpath('header/h2/a/@title').extract_first(),\n",
    "                'date': article.xpath('header/section/span[@class=\"entry-date\"]/text()').extract_first(),\n",
    "                'text': article.xpath('section[@class=\"entry-content\"]/p/text()').extract(),\n",
    "                'tags': article.xpath('*/span[@class=\"tag-links\"]/a/text()').extract()\n",
    "            }\n",
    "\n",
    "# Tell the script how to run the crawler by passing in settings\n",
    "process = CrawlerProcess({\n",
    "    'FEED_FORMAT': 'json',         # Store data in JSON format\n",
    "    'FEED_URI': 'firstpage2.json',  # Name our storage file\n",
    "    'LOG_ENABLED': False           # Turn off logging for now\n",
    "})\n",
    "\n",
    "# Start the crawler with our spider\n",
    "process.crawl(ESSpider)\n",
    "process.start()\n",
    "print('Success')"
   ]
  },
  {
   "cell_type": "markdown",
   "metadata": {},
   "source": [
    "# Checking the Output\n",
    "- Look at firstpage.json"
   ]
  },
  {
   "cell_type": "code",
   "execution_count": 2,
   "metadata": {},
   "outputs": [
    {
     "name": "stdout",
     "output_type": "stream",
     "text": [
      "(10, 4)\n",
      "        date    name                  tags  \\\n",
      "0 2019-03-02    Fran       [Media, School]   \n",
      "1 2019-03-02  Charis  [Grandparents house]   \n",
      "2 2019-03-02    anon                [Home]   \n",
      "3 2019-03-02    Carl        [Public space]   \n",
      "4 2019-03-02     aad                    []   \n",
      "\n",
      "                                                text  \n",
      "0  [I always believed that have the right to my b...  \n",
      "1  [I am 12 and was visiting my grandparents over...  \n",
      "2  [My partner just asked what I was doing, to wh...  \n",
      "3  [Passed this car while walking with my daughte...  \n",
      "4  [I was on my way to a concert, my first one ev...  \n"
     ]
    }
   ],
   "source": [
    "import pandas as pd\n",
    "\n",
    "firstpage = pd.read_json('firstpage2.json', orient='records')\n",
    "print(firstpage.shape)\n",
    "print(firstpage.head())"
   ]
  },
  {
   "cell_type": "markdown",
   "metadata": {},
   "source": [
    "## Scrapy on more pages"
   ]
  },
  {
   "cell_type": "code",
   "execution_count": 2,
   "metadata": {},
   "outputs": [
    {
     "name": "stdout",
     "output_type": "stream",
     "text": [
      "Success!\n"
     ]
    }
   ],
   "source": [
    "# IMportin in each cell because of kernel restarts\n",
    "import scrapy\n",
    "import re\n",
    "from scrapy.crawler import CrawlerProcess\n",
    "\n",
    "class ESSpider(scrapy.Spider):\n",
    "    # Naming spider important if running more than 1\n",
    "    # of class simultaneously\n",
    "    name = 'ESS'\n",
    "    \n",
    "    # URL(s) to start with\n",
    "    start_urls = [\n",
    "        'http://www.everydaysexism.com'\n",
    "    ]\n",
    "    \n",
    "    # Use XPath to parse the response we get.\n",
    "    def parse(self, response):\n",
    "        \n",
    "        # Iterate over every <article> element on the page\n",
    "        for article in response.xpath('//article'):\n",
    "            \n",
    "            # Yield a dictionary with teh values we want\n",
    "            yield {\n",
    "                'name': article.xpath('header/h2/a/@title').extract_first(),\n",
    "                'date': article.xpath('header/section/span[@class=\"entry-date\"]/text()').extract_first(),\n",
    "                'text': article.xpath('section[@class=\"entry-content\"]/p/text()').extract(),\n",
    "                'tags': article.xpath('*/span[@class=\"tag-links\"]/a/text()').extract()\n",
    "            }\n",
    "        \n",
    "        # Get the URL of the previous page\n",
    "        next_page = response.xpath('//div[@class=\"nav-previous\"]/a/@href').extract_first()\n",
    "        \n",
    "        # There are a LOT of pages here, we'll just scrape the first 9\n",
    "        # This finds the page number, next segment prevents going past page 9\n",
    "        pagenum = int(re.findall(r'\\d+', next_page)[0])\n",
    "        \n",
    "        # Recursively call the spider to run on the next page if it exists\n",
    "        if next_page is not None and pagenum < 10:\n",
    "            next_page = response.urljoin(next_page)\n",
    "            # Request the next page and recursively parse it the same way we did above\n",
    "            yield scrapy.Request(next_page, callback=self.parse)\n",
    "            \n",
    "# Tell the scrip how to run the crawler by passing in settings\n",
    "# The new settings have to do with scraping etiquette\n",
    "process = CrawlerProcess({\n",
    "    'FEED_FORMAT': 'json',\n",
    "    'FEED_URI': 'data.json',\n",
    "    'LOG_ENABLED': False,\n",
    "    'ROBOTSTXT_OBEY': True,\n",
    "    'USER_AGENT': 'ThinkfulDataScienceBootcampCrawler (thinkful.com)',\n",
    "    'AUTOTHROTTLE_ENABLED': True,\n",
    "    'HTTPCACHE_ENABLED': True\n",
    "})\n",
    "\n",
    "# STart the crawler with our spider\n",
    "process.crawl(ESSpider)\n",
    "process.start()\n",
    "print('Success!')\n",
    "            \n",
    "\n",
    "        "
   ]
  },
  {
   "cell_type": "code",
   "execution_count": 3,
   "metadata": {},
   "outputs": [
    {
     "name": "stdout",
     "output_type": "stream",
     "text": [
      "(90, 4)\n",
      "        date       name                       tags  \\\n",
      "0 2019-03-06       izzy             [Public space]   \n",
      "1 2019-03-06       Emma                   [School]   \n",
      "2 2019-03-06  Normalmum       [Home, Public space]   \n",
      "3 2019-03-06        Eve             [Public space]   \n",
      "4 2019-03-06  Jay Again  [Public space, Workplace]   \n",
      "\n",
      "                                                text  \n",
      "0  [When I was eleven, I was walking into a petro...  \n",
      "1  [About a week ago me and my friend were walkin...  \n",
      "2  [Husband just not understanding why it’s not o...  \n",
      "3  [Was at TraderJoes shopping this afternoon, an...  \n",
      "4  [Have you seen this? I’m sure you have. Is the...  \n"
     ]
    }
   ],
   "source": [
    "import pandas as pd\n",
    "\n",
    "# Checking whether we got data from all 9 pages\n",
    "ESSdf = pd.read_json('data.json', orient='records')\n",
    "print(ESSdf.shape)\n",
    "print(ESSdf.head())"
   ]
  },
  {
   "cell_type": "code",
   "execution_count": null,
   "metadata": {},
   "outputs": [],
   "source": []
  }
 ],
 "metadata": {
  "kernelspec": {
   "display_name": "Python 3",
   "language": "python",
   "name": "python3"
  },
  "language_info": {
   "codemirror_mode": {
    "name": "ipython",
    "version": 3
   },
   "file_extension": ".py",
   "mimetype": "text/x-python",
   "name": "python",
   "nbconvert_exporter": "python",
   "pygments_lexer": "ipython3",
   "version": "3.7.0"
  }
 },
 "nbformat": 4,
 "nbformat_minor": 2
}
